{
 "cells": [
  {
   "cell_type": "markdown",
   "id": "b8d00154-a559-4084-ab72-56a36c27004b",
   "metadata": {},
   "source": [
    "## PROJECT PROBABILITY"
   ]
  },
  {
   "cell_type": "code",
   "execution_count": 2,
   "id": "0c2efb0a-c05b-4b89-9a09-44f80b89f098",
   "metadata": {},
   "outputs": [],
   "source": [
    "import pandas as pd\n",
    "import numpy as np\n",
    "import statistics"
   ]
  },
  {
   "cell_type": "markdown",
   "id": "fc779916-17f9-4e7e-afde-7e9971ac9936",
   "metadata": {},
   "source": [
    "## Load Data Preparation"
   ]
  },
  {
   "cell_type": "code",
   "execution_count": 5,
   "id": "52a68901-0001-49a0-acee-2788a0be5107",
   "metadata": {},
   "outputs": [
    {
     "data": {
      "text/html": [
       "<div>\n",
       "<style scoped>\n",
       "    .dataframe tbody tr th:only-of-type {\n",
       "        vertical-align: middle;\n",
       "    }\n",
       "\n",
       "    .dataframe tbody tr th {\n",
       "        vertical-align: top;\n",
       "    }\n",
       "\n",
       "    .dataframe thead th {\n",
       "        text-align: right;\n",
       "    }\n",
       "</style>\n",
       "<table border=\"1\" class=\"dataframe\">\n",
       "  <thead>\n",
       "    <tr style=\"text-align: right;\">\n",
       "      <th></th>\n",
       "      <th>age</th>\n",
       "      <th>sex</th>\n",
       "      <th>bmi</th>\n",
       "      <th>children</th>\n",
       "      <th>smoker</th>\n",
       "      <th>region</th>\n",
       "      <th>charges</th>\n",
       "    </tr>\n",
       "  </thead>\n",
       "  <tbody>\n",
       "    <tr>\n",
       "      <th>0</th>\n",
       "      <td>19</td>\n",
       "      <td>female</td>\n",
       "      <td>27.900</td>\n",
       "      <td>0</td>\n",
       "      <td>yes</td>\n",
       "      <td>southwest</td>\n",
       "      <td>16884.92400</td>\n",
       "    </tr>\n",
       "    <tr>\n",
       "      <th>1</th>\n",
       "      <td>18</td>\n",
       "      <td>male</td>\n",
       "      <td>33.770</td>\n",
       "      <td>1</td>\n",
       "      <td>no</td>\n",
       "      <td>southeast</td>\n",
       "      <td>1725.55230</td>\n",
       "    </tr>\n",
       "    <tr>\n",
       "      <th>2</th>\n",
       "      <td>28</td>\n",
       "      <td>male</td>\n",
       "      <td>33.000</td>\n",
       "      <td>3</td>\n",
       "      <td>no</td>\n",
       "      <td>southeast</td>\n",
       "      <td>4449.46200</td>\n",
       "    </tr>\n",
       "    <tr>\n",
       "      <th>3</th>\n",
       "      <td>33</td>\n",
       "      <td>male</td>\n",
       "      <td>22.705</td>\n",
       "      <td>0</td>\n",
       "      <td>no</td>\n",
       "      <td>northwest</td>\n",
       "      <td>21984.47061</td>\n",
       "    </tr>\n",
       "    <tr>\n",
       "      <th>4</th>\n",
       "      <td>32</td>\n",
       "      <td>male</td>\n",
       "      <td>28.880</td>\n",
       "      <td>0</td>\n",
       "      <td>no</td>\n",
       "      <td>northwest</td>\n",
       "      <td>3866.85520</td>\n",
       "    </tr>\n",
       "    <tr>\n",
       "      <th>...</th>\n",
       "      <td>...</td>\n",
       "      <td>...</td>\n",
       "      <td>...</td>\n",
       "      <td>...</td>\n",
       "      <td>...</td>\n",
       "      <td>...</td>\n",
       "      <td>...</td>\n",
       "    </tr>\n",
       "    <tr>\n",
       "      <th>1333</th>\n",
       "      <td>50</td>\n",
       "      <td>male</td>\n",
       "      <td>30.970</td>\n",
       "      <td>3</td>\n",
       "      <td>no</td>\n",
       "      <td>northwest</td>\n",
       "      <td>10600.54830</td>\n",
       "    </tr>\n",
       "    <tr>\n",
       "      <th>1334</th>\n",
       "      <td>18</td>\n",
       "      <td>female</td>\n",
       "      <td>31.920</td>\n",
       "      <td>0</td>\n",
       "      <td>no</td>\n",
       "      <td>northeast</td>\n",
       "      <td>2205.98080</td>\n",
       "    </tr>\n",
       "    <tr>\n",
       "      <th>1335</th>\n",
       "      <td>18</td>\n",
       "      <td>female</td>\n",
       "      <td>36.850</td>\n",
       "      <td>0</td>\n",
       "      <td>no</td>\n",
       "      <td>southeast</td>\n",
       "      <td>1629.83350</td>\n",
       "    </tr>\n",
       "    <tr>\n",
       "      <th>1336</th>\n",
       "      <td>21</td>\n",
       "      <td>female</td>\n",
       "      <td>25.800</td>\n",
       "      <td>0</td>\n",
       "      <td>no</td>\n",
       "      <td>southwest</td>\n",
       "      <td>2007.94500</td>\n",
       "    </tr>\n",
       "    <tr>\n",
       "      <th>1337</th>\n",
       "      <td>61</td>\n",
       "      <td>female</td>\n",
       "      <td>29.070</td>\n",
       "      <td>0</td>\n",
       "      <td>yes</td>\n",
       "      <td>northwest</td>\n",
       "      <td>29141.36030</td>\n",
       "    </tr>\n",
       "  </tbody>\n",
       "</table>\n",
       "<p>1338 rows × 7 columns</p>\n",
       "</div>"
      ],
      "text/plain": [
       "      age     sex     bmi  children smoker     region      charges\n",
       "0      19  female  27.900         0    yes  southwest  16884.92400\n",
       "1      18    male  33.770         1     no  southeast   1725.55230\n",
       "2      28    male  33.000         3     no  southeast   4449.46200\n",
       "3      33    male  22.705         0     no  northwest  21984.47061\n",
       "4      32    male  28.880         0     no  northwest   3866.85520\n",
       "...   ...     ...     ...       ...    ...        ...          ...\n",
       "1333   50    male  30.970         3     no  northwest  10600.54830\n",
       "1334   18  female  31.920         0     no  northeast   2205.98080\n",
       "1335   18  female  36.850         0     no  southeast   1629.83350\n",
       "1336   21  female  25.800         0     no  southwest   2007.94500\n",
       "1337   61  female  29.070         0    yes  northwest  29141.36030\n",
       "\n",
       "[1338 rows x 7 columns]"
      ]
     },
     "execution_count": 5,
     "metadata": {},
     "output_type": "execute_result"
    }
   ],
   "source": [
    "insurance = pd.read_csv(\"insurance.csv\")\n",
    "insurance"
   ]
  },
  {
   "cell_type": "markdown",
   "id": "3a61e784-e947-448d-b635-f3fcba3175e9",
   "metadata": {},
   "source": [
    "## 1. Analisa Deskriptif"
   ]
  },
  {
   "cell_type": "markdown",
   "id": "6ea3f8d9-fa87-4196-aeae-c2c84cf09989",
   "metadata": {},
   "source": [
    "Diketahui dari dataset asuransi ini didapatkan:\n",
    "a.\tBerapa Rata-rata umur pengguna Asuransi ?\n",
    "b.\tBerapa Rata-rata nilai BMI antara perokok dan tidak merokok?\n",
    "c.\tBerapa Rata-rata Premi yang dibayarkan oleh perokok dan non perokok? Mana yang lebih tinggi?\n",
    "d.\tBerapa Rata-rata Premi yang dibayarkan oleh perokok dengan BMI kurang dari 25 dan perokok dengan BMI lebih dari 25 ? Mana yang lebih tinggi?\n",
    "e.\tLebih berat rata-rata BMI perokok atau non perokok?\n",
    "f.\tLebih berat rata-rata BMI Perempuan atau laki laki?\n"
   ]
  },
  {
   "cell_type": "code",
   "execution_count": 3,
   "id": "df26459e-458d-490c-b9e7-74d23cf924cc",
   "metadata": {},
   "outputs": [
    {
     "data": {
      "text/html": [
       "<div>\n",
       "<style scoped>\n",
       "    .dataframe tbody tr th:only-of-type {\n",
       "        vertical-align: middle;\n",
       "    }\n",
       "\n",
       "    .dataframe tbody tr th {\n",
       "        vertical-align: top;\n",
       "    }\n",
       "\n",
       "    .dataframe thead th {\n",
       "        text-align: right;\n",
       "    }\n",
       "</style>\n",
       "<table border=\"1\" class=\"dataframe\">\n",
       "  <thead>\n",
       "    <tr style=\"text-align: right;\">\n",
       "      <th></th>\n",
       "      <th>age</th>\n",
       "      <th>bmi</th>\n",
       "      <th>children</th>\n",
       "      <th>charges</th>\n",
       "    </tr>\n",
       "  </thead>\n",
       "  <tbody>\n",
       "    <tr>\n",
       "      <th>count</th>\n",
       "      <td>1338.000000</td>\n",
       "      <td>1338.000000</td>\n",
       "      <td>1338.000000</td>\n",
       "      <td>1338.000000</td>\n",
       "    </tr>\n",
       "    <tr>\n",
       "      <th>mean</th>\n",
       "      <td>39.207025</td>\n",
       "      <td>30.663397</td>\n",
       "      <td>1.094918</td>\n",
       "      <td>13270.422265</td>\n",
       "    </tr>\n",
       "    <tr>\n",
       "      <th>std</th>\n",
       "      <td>14.049960</td>\n",
       "      <td>6.098187</td>\n",
       "      <td>1.205493</td>\n",
       "      <td>12110.011237</td>\n",
       "    </tr>\n",
       "    <tr>\n",
       "      <th>min</th>\n",
       "      <td>18.000000</td>\n",
       "      <td>15.960000</td>\n",
       "      <td>0.000000</td>\n",
       "      <td>1121.873900</td>\n",
       "    </tr>\n",
       "    <tr>\n",
       "      <th>25%</th>\n",
       "      <td>27.000000</td>\n",
       "      <td>26.296250</td>\n",
       "      <td>0.000000</td>\n",
       "      <td>4740.287150</td>\n",
       "    </tr>\n",
       "    <tr>\n",
       "      <th>50%</th>\n",
       "      <td>39.000000</td>\n",
       "      <td>30.400000</td>\n",
       "      <td>1.000000</td>\n",
       "      <td>9382.033000</td>\n",
       "    </tr>\n",
       "    <tr>\n",
       "      <th>75%</th>\n",
       "      <td>51.000000</td>\n",
       "      <td>34.693750</td>\n",
       "      <td>2.000000</td>\n",
       "      <td>16639.912515</td>\n",
       "    </tr>\n",
       "    <tr>\n",
       "      <th>max</th>\n",
       "      <td>64.000000</td>\n",
       "      <td>53.130000</td>\n",
       "      <td>5.000000</td>\n",
       "      <td>63770.428010</td>\n",
       "    </tr>\n",
       "  </tbody>\n",
       "</table>\n",
       "</div>"
      ],
      "text/plain": [
       "               age          bmi     children       charges\n",
       "count  1338.000000  1338.000000  1338.000000   1338.000000\n",
       "mean     39.207025    30.663397     1.094918  13270.422265\n",
       "std      14.049960     6.098187     1.205493  12110.011237\n",
       "min      18.000000    15.960000     0.000000   1121.873900\n",
       "25%      27.000000    26.296250     0.000000   4740.287150\n",
       "50%      39.000000    30.400000     1.000000   9382.033000\n",
       "75%      51.000000    34.693750     2.000000  16639.912515\n",
       "max      64.000000    53.130000     5.000000  63770.428010"
      ]
     },
     "execution_count": 3,
     "metadata": {},
     "output_type": "execute_result"
    }
   ],
   "source": [
    "insurance.describe()"
   ]
  },
  {
   "cell_type": "code",
   "execution_count": 4,
   "id": "5319447a-48ca-4b17-9489-80c5afb86d91",
   "metadata": {},
   "outputs": [
    {
     "data": {
      "text/plain": [
       "39.20702541106129"
      ]
     },
     "execution_count": 4,
     "metadata": {},
     "output_type": "execute_result"
    }
   ],
   "source": [
    "satu_a=insurance['age'].mean()\n",
    "satu_a"
   ]
  },
  {
   "cell_type": "code",
   "execution_count": 22,
   "id": "ba642382-2b1e-49b3-b84e-282e40a3b9e1",
   "metadata": {},
   "outputs": [],
   "source": [
    "satu_b=insurance.groupby(['smoker']).mean()\n",
    "satu_b = satu_b['bmi']"
   ]
  },
  {
   "cell_type": "code",
   "execution_count": 24,
   "id": "d911f0bf-ae7f-4cb0-ba21-36ca492f9373",
   "metadata": {},
   "outputs": [
    {
     "data": {
      "text/plain": [
       "smoker\n",
       "no      8434.268298\n",
       "yes    32050.231832\n",
       "Name: charges, dtype: float64"
      ]
     },
     "execution_count": 24,
     "metadata": {},
     "output_type": "execute_result"
    }
   ],
   "source": [
    "satu_c=insurance.groupby(['smoker']).mean()\n",
    "satu_c['charges']\n",
    "satu_c['charges']"
   ]
  },
  {
   "cell_type": "code",
   "execution_count": 31,
   "id": "e0840b62-aeee-4a85-8a52-4a34aa6bb389",
   "metadata": {},
   "outputs": [
    {
     "data": {
      "text/plain": [
       "smoker\n",
       "no     1064\n",
       "yes     274\n",
       "Name: charges, dtype: int64"
      ]
     },
     "execution_count": 31,
     "metadata": {},
     "output_type": "execute_result"
    }
   ],
   "source": [
    "satu_x=insurance.groupby(['smoker']).count()\n",
    "satu_x['charges']"
   ]
  },
  {
   "cell_type": "code",
   "execution_count": 28,
   "id": "a20fdee0-0ab0-4d59-bca3-b7b53cada873",
   "metadata": {},
   "outputs": [
    {
     "data": {
      "text/plain": [
       "35116.90965694065"
      ]
     },
     "execution_count": 28,
     "metadata": {},
     "output_type": "execute_result"
    }
   ],
   "source": [
    "satu_d1=insurance.loc[insurance[\"bmi\"] > 25]\n",
    "satu_d1=satu_d1.loc[insurance['smoker']=='yes']\n",
    "satu_d1['charges'].mean()"
   ]
  },
  {
   "cell_type": "code",
   "execution_count": 25,
   "id": "dc9b6ed7-ac40-42c7-b62e-389a9b959072",
   "metadata": {},
   "outputs": [
    {
     "data": {
      "text/plain": [
       "19839.278308545454"
      ]
     },
     "execution_count": 25,
     "metadata": {},
     "output_type": "execute_result"
    }
   ],
   "source": [
    "satu_d2=insurance.loc[insurance[\"bmi\"] <= 25]\n",
    "satu_d2=satu_d2.loc[insurance['smoker']=='yes']\n",
    "satu_d2['charges'].mean()"
   ]
  },
  {
   "cell_type": "code",
   "execution_count": 31,
   "id": "2019a899-7010-4f8d-a69b-f05b32cc4319",
   "metadata": {},
   "outputs": [
    {
     "data": {
      "text/plain": [
       "sex\n",
       "female    30.377749\n",
       "male      30.943129\n",
       "Name: bmi, dtype: float64"
      ]
     },
     "execution_count": 31,
     "metadata": {},
     "output_type": "execute_result"
    }
   ],
   "source": [
    "satu_e=insurance.groupby(['sex']).mean()\n",
    "satu_e['bmi']"
   ]
  },
  {
   "cell_type": "code",
   "execution_count": 32,
   "id": "204cda06-78b6-4f38-9334-a701b9e63266",
   "metadata": {},
   "outputs": [
    {
     "data": {
      "text/plain": [
       "-0.5653799999999976"
      ]
     },
     "execution_count": 32,
     "metadata": {},
     "output_type": "execute_result"
    }
   ],
   "source": [
    "30.377749-30.943129\n"
   ]
  },
  {
   "cell_type": "markdown",
   "id": "0243e86a-1e44-449e-9e6e-c5062c7f1f51",
   "metadata": {},
   "source": [
    "## 2. Analisa Variabel Kategorik"
   ]
  },
  {
   "cell_type": "markdown",
   "id": "22b105db-42da-41b8-a99f-3e0583bddb2e",
   "metadata": {},
   "source": [
    "a. Gender mana yang memiliki tagihan paling tinggi\n",
    "b. Distribusi peluang tagihan di tiap-tiap region\n",
    "c. Apakah setiap region memiliki proporsi data banyak orang yang sama?\n",
    "d. Berapa peluang seseorang tersebut adalah perempuan diketahui dia adalah perokok?\n",
    "e. Berapa peluang seseorang tersebut adalah laki-laki diketahui dia adalah perokok?"
   ]
  },
  {
   "cell_type": "code",
   "execution_count": 11,
   "id": "539fd3ce-812d-4649-86b8-2ca307906396",
   "metadata": {},
   "outputs": [
    {
     "data": {
      "text/plain": [
       "sex\n",
       "female    63770.42801\n",
       "male      62592.87309\n",
       "Name: charges, dtype: float64"
      ]
     },
     "execution_count": 11,
     "metadata": {},
     "output_type": "execute_result"
    }
   ],
   "source": [
    "dua_a = insurance.groupby(['sex']).max()\n",
    "dua_a['charges']"
   ]
  },
  {
   "cell_type": "code",
   "execution_count": 59,
   "id": "84e53d31-cf9b-402e-bd8f-2ce0ca5090e4",
   "metadata": {},
   "outputs": [
    {
     "name": "stdout",
     "output_type": "stream",
     "text": [
      "region\n",
      "northeast    324\n",
      "northwest    325\n",
      "southeast    364\n",
      "southwest    325\n",
      "Name: charges, dtype: int64\n",
      "region\n",
      "northeast    24.215247\n",
      "northwest    24.289985\n",
      "southeast    27.204783\n",
      "southwest    24.289985\n",
      "Name: charges, dtype: float64\n"
     ]
    }
   ],
   "source": [
    "dua_c = insurance.groupby(['region'])\n",
    "print(dua_c['charges'].count())\n",
    "dua_cx = dua_c['charges'].count()/len(insurance)*100\n",
    "print (dua_cx)"
   ]
  },
  {
   "cell_type": "code",
   "execution_count": 70,
   "id": "2205ed1c-8abb-4567-bbf1-f481614c1f22",
   "metadata": {},
   "outputs": [
    {
     "data": {
      "text/html": [
       "<div>\n",
       "<style scoped>\n",
       "    .dataframe tbody tr th:only-of-type {\n",
       "        vertical-align: middle;\n",
       "    }\n",
       "\n",
       "    .dataframe tbody tr th {\n",
       "        vertical-align: top;\n",
       "    }\n",
       "\n",
       "    .dataframe thead th {\n",
       "        text-align: right;\n",
       "    }\n",
       "</style>\n",
       "<table border=\"1\" class=\"dataframe\">\n",
       "  <thead>\n",
       "    <tr style=\"text-align: right;\">\n",
       "      <th></th>\n",
       "      <th>age</th>\n",
       "      <th>bmi</th>\n",
       "      <th>children</th>\n",
       "      <th>smoker</th>\n",
       "      <th>region</th>\n",
       "      <th>charges</th>\n",
       "    </tr>\n",
       "    <tr>\n",
       "      <th>sex</th>\n",
       "      <th></th>\n",
       "      <th></th>\n",
       "      <th></th>\n",
       "      <th></th>\n",
       "      <th></th>\n",
       "      <th></th>\n",
       "    </tr>\n",
       "  </thead>\n",
       "  <tbody>\n",
       "    <tr>\n",
       "      <th>female</th>\n",
       "      <td>0.173716</td>\n",
       "      <td>0.173716</td>\n",
       "      <td>0.173716</td>\n",
       "      <td>0.173716</td>\n",
       "      <td>0.173716</td>\n",
       "      <td>0.173716</td>\n",
       "    </tr>\n",
       "    <tr>\n",
       "      <th>male</th>\n",
       "      <td>0.235207</td>\n",
       "      <td>0.235207</td>\n",
       "      <td>0.235207</td>\n",
       "      <td>0.235207</td>\n",
       "      <td>0.235207</td>\n",
       "      <td>0.235207</td>\n",
       "    </tr>\n",
       "  </tbody>\n",
       "</table>\n",
       "</div>"
      ],
      "text/plain": [
       "             age       bmi  children    smoker    region   charges\n",
       "sex                                                               \n",
       "female  0.173716  0.173716  0.173716  0.173716  0.173716  0.173716\n",
       "male    0.235207  0.235207  0.235207  0.235207  0.235207  0.235207"
      ]
     },
     "execution_count": 70,
     "metadata": {},
     "output_type": "execute_result"
    }
   ],
   "source": [
    "condition = (insurance['smoker']== 'yes')\n",
    "total = len(insurance[condition])\n",
    "dua_e= insurance[condition].groupby(['sex'])\n",
    "dua_e = dua_e.count()\n",
    "dua_e\n",
    "dua_ex = insurance.groupby(['sex']).count()\n",
    "dua_ex\n",
    "rata_rata=dua_e/dua_ex\n",
    "rata_rata"
   ]
  },
  {
   "cell_type": "code",
   "execution_count": 72,
   "id": "bdd7915c-0008-48db-83a4-4905f9b85d1d",
   "metadata": {},
   "outputs": [
    {
     "data": {
      "text/html": [
       "<div>\n",
       "<style scoped>\n",
       "    .dataframe tbody tr th:only-of-type {\n",
       "        vertical-align: middle;\n",
       "    }\n",
       "\n",
       "    .dataframe tbody tr th {\n",
       "        vertical-align: top;\n",
       "    }\n",
       "\n",
       "    .dataframe thead th {\n",
       "        text-align: right;\n",
       "    }\n",
       "</style>\n",
       "<table border=\"1\" class=\"dataframe\">\n",
       "  <thead>\n",
       "    <tr style=\"text-align: right;\">\n",
       "      <th></th>\n",
       "      <th>age</th>\n",
       "      <th>sex</th>\n",
       "      <th>bmi</th>\n",
       "      <th>children</th>\n",
       "      <th>region</th>\n",
       "      <th>charges</th>\n",
       "    </tr>\n",
       "    <tr>\n",
       "      <th>smoker</th>\n",
       "      <th></th>\n",
       "      <th></th>\n",
       "      <th></th>\n",
       "      <th></th>\n",
       "      <th></th>\n",
       "      <th></th>\n",
       "    </tr>\n",
       "  </thead>\n",
       "  <tbody>\n",
       "    <tr>\n",
       "      <th>no</th>\n",
       "      <td>0.795217</td>\n",
       "      <td>0.795217</td>\n",
       "      <td>0.795217</td>\n",
       "      <td>0.795217</td>\n",
       "      <td>0.795217</td>\n",
       "      <td>0.795217</td>\n",
       "    </tr>\n",
       "    <tr>\n",
       "      <th>yes</th>\n",
       "      <td>0.204783</td>\n",
       "      <td>0.204783</td>\n",
       "      <td>0.204783</td>\n",
       "      <td>0.204783</td>\n",
       "      <td>0.204783</td>\n",
       "      <td>0.204783</td>\n",
       "    </tr>\n",
       "  </tbody>\n",
       "</table>\n",
       "</div>"
      ],
      "text/plain": [
       "             age       sex       bmi  children    region   charges\n",
       "smoker                                                            \n",
       "no      0.795217  0.795217  0.795217  0.795217  0.795217  0.795217\n",
       "yes     0.204783  0.204783  0.204783  0.204783  0.204783  0.204783"
      ]
     },
     "execution_count": 72,
     "metadata": {},
     "output_type": "execute_result"
    }
   ],
   "source": [
    "dua_d=insurance.groupby(['smoker']).count()\n",
    "dua_d\n",
    "hasil = dua_d/len(insurance)\n",
    "hasil"
   ]
  },
  {
   "cell_type": "markdown",
   "id": "8c2f05ea-9f04-4a4a-8593-6774a66be80a",
   "metadata": {},
   "source": [
    "## 3. Analisa Variabel Kontinu"
   ]
  },
  {
   "cell_type": "markdown",
   "id": "8bff1a69-df92-417a-b343-4c709e01fa41",
   "metadata": {},
   "source": [
    "- Mencari kemungkinan terjadi, seorang perokok dengan BMI diatas 25 akan mendapatkan tagihan kesehatan di atas 16.700.\t\t\n",
    "- Berapa peluang seseorang acak tagihan kesehatannya diatas 16.7k diketahui dia adalah perokok\n",
    "- Mana yang lebih mungkin terjadi :\n",
    "i. Seseorang dengan BMI diatas 25 mendapatkan tagihan kesehatan diatas 16.7k, atau\n",
    "ii.\tSeseorang dengan BMI dibawah 25 mendapatkan tagihan kesehatan diatas 16.7k\n",
    "- Mana yang lebih mungkin terjadi\n",
    "i.\tSeseorang perokok dengan BMI diatas 25 mendapatkan tagihan Kesehatan diatas 16.7k,\n",
    "ii.\tSeseorang non perokok dengan BMI diatas 25 mendapatkan tagihan kesehatan diatas 16.7k\n",
    "\n"
   ]
  },
  {
   "cell_type": "code",
   "execution_count": 74,
   "id": "5f4db547-033d-446a-9926-8b89f6b9dea7",
   "metadata": {},
   "outputs": [
    {
     "data": {
      "text/plain": [
       "0.16068759342301944"
      ]
     },
     "execution_count": 74,
     "metadata": {},
     "output_type": "execute_result"
    }
   ],
   "source": [
    "condition=(insurance['smoker'] == 'yes') & (insurance['bmi'] > 25)\n",
    "condition2= condition & (insurance['charges']>16700)\n",
    "#&(insurance['smoker'] == 'yes')\n",
    "tiga_b = len(insurance[condition2]) / len(insurance)\n",
    "tiga_b"
   ]
  },
  {
   "cell_type": "code",
   "execution_count": 75,
   "id": "79bcbb52-553a-4016-8f09-7f41cafc734b",
   "metadata": {},
   "outputs": [
    {
     "data": {
      "text/plain": [
       "0.1898355754857997"
      ]
     },
     "execution_count": 75,
     "metadata": {},
     "output_type": "execute_result"
    }
   ],
   "source": [
    "condition=(insurance['smoker'] == 'yes')\n",
    "condition2= condition & (insurance['charges']>16700)\n",
    "tiga_c = len(insurance[condition2]) / len(insurance)\n",
    "tiga_c"
   ]
  },
  {
   "cell_type": "code",
   "execution_count": 86,
   "id": "7ec791b4-02af-4f2b-8774-011f3c8f899f",
   "metadata": {},
   "outputs": [
    {
     "name": "stdout",
     "output_type": "stream",
     "text": [
      "0.21150971599402094\n",
      "0.03811659192825112\n"
     ]
    }
   ],
   "source": [
    "condition1=(insurance['bmi'] > 25)\n",
    "condition1a=condition1 & (insurance['charges']>16700)\n",
    "tiga_d1 = len(insurance[condition1a]) / len(insurance)\n",
    "\n",
    "condition2=(insurance['bmi'] <= 25)\n",
    "condition2a=condition2 & (insurance['charges']>16700)\n",
    "tiga_d2 = len(insurance[condition2a]) / len(insurance)\n",
    "print(tiga_d1)\n",
    "print(tiga_d2)"
   ]
  },
  {
   "cell_type": "code",
   "execution_count": 88,
   "id": "2660c825-4b07-4025-add9-7ddfc713a90f",
   "metadata": {},
   "outputs": [
    {
     "name": "stdout",
     "output_type": "stream",
     "text": [
      "0.16068759342301944\n",
      "0.02914798206278027\n"
     ]
    }
   ],
   "source": [
    "condition1=(insurance['smoker'] == 'yes') & (insurance['bmi'] > 25)\n",
    "condition1a=condition1 & (insurance['charges']>16700)\n",
    "tiga_e1 = len(insurance[condition1a]) / len(insurance)\n",
    "\n",
    "condition2=(insurance['smoker'] == 'yes') & (insurance['bmi'] <= 25)\n",
    "condition2a=condition2 & (insurance['charges']>16700)\n",
    "tiga_e2 = len(insurance[condition2a]) / len(insurance)\n",
    "print(tiga_e1)\n",
    "print(tiga_e2)"
   ]
  },
  {
   "cell_type": "markdown",
   "id": "67424546-5e35-44dc-991c-3a44dece6d0f",
   "metadata": {},
   "source": [
    "## 4. Analisa Korelasi Variabel"
   ]
  },
  {
   "cell_type": "markdown",
   "id": "819f6593-bbf7-4976-8290-c096f339464c",
   "metadata": {},
   "source": [
    "-\tUmur semakin tua/muda tagihan asuransi semakin tinggi (Korelasi Positif atau Negatif)\n",
    "-\tBMI semakin besar/kecil tagihan asuransi semakin tinggi (Korelasi Positif atau Negatif)\n",
    "- Anak yang ditanggung makin banyak, tagihan asuransi semakin tinggi (Korelasi Positif atau Negatif)\n"
   ]
  },
  {
   "cell_type": "code",
   "execution_count": 12,
   "id": "e5e16f1f-090a-4702-bfa5-f1b6fbec8fc5",
   "metadata": {},
   "outputs": [
    {
     "data": {
      "text/html": [
       "<div>\n",
       "<style scoped>\n",
       "    .dataframe tbody tr th:only-of-type {\n",
       "        vertical-align: middle;\n",
       "    }\n",
       "\n",
       "    .dataframe tbody tr th {\n",
       "        vertical-align: top;\n",
       "    }\n",
       "\n",
       "    .dataframe thead th {\n",
       "        text-align: right;\n",
       "    }\n",
       "</style>\n",
       "<table border=\"1\" class=\"dataframe\">\n",
       "  <thead>\n",
       "    <tr style=\"text-align: right;\">\n",
       "      <th></th>\n",
       "      <th>age</th>\n",
       "      <th>charges</th>\n",
       "    </tr>\n",
       "  </thead>\n",
       "  <tbody>\n",
       "    <tr>\n",
       "      <th>age</th>\n",
       "      <td>1.000000</td>\n",
       "      <td>0.299008</td>\n",
       "    </tr>\n",
       "    <tr>\n",
       "      <th>charges</th>\n",
       "      <td>0.299008</td>\n",
       "      <td>1.000000</td>\n",
       "    </tr>\n",
       "  </tbody>\n",
       "</table>\n",
       "</div>"
      ],
      "text/plain": [
       "              age   charges\n",
       "age      1.000000  0.299008\n",
       "charges  0.299008  1.000000"
      ]
     },
     "execution_count": 12,
     "metadata": {},
     "output_type": "execute_result"
    }
   ],
   "source": [
    "empat_a =insurance[['age', 'charges']].corr()\n",
    "empat_a"
   ]
  },
  {
   "cell_type": "code",
   "execution_count": 20,
   "id": "bc9cb65f-a4cb-44fd-b0b0-8821148aacdd",
   "metadata": {},
   "outputs": [
    {
     "data": {
      "text/html": [
       "<div>\n",
       "<style scoped>\n",
       "    .dataframe tbody tr th:only-of-type {\n",
       "        vertical-align: middle;\n",
       "    }\n",
       "\n",
       "    .dataframe tbody tr th {\n",
       "        vertical-align: top;\n",
       "    }\n",
       "\n",
       "    .dataframe thead th {\n",
       "        text-align: right;\n",
       "    }\n",
       "</style>\n",
       "<table border=\"1\" class=\"dataframe\">\n",
       "  <thead>\n",
       "    <tr style=\"text-align: right;\">\n",
       "      <th></th>\n",
       "      <th>bmi</th>\n",
       "      <th>charges</th>\n",
       "    </tr>\n",
       "  </thead>\n",
       "  <tbody>\n",
       "    <tr>\n",
       "      <th>bmi</th>\n",
       "      <td>1.000000</td>\n",
       "      <td>0.198341</td>\n",
       "    </tr>\n",
       "    <tr>\n",
       "      <th>charges</th>\n",
       "      <td>0.198341</td>\n",
       "      <td>1.000000</td>\n",
       "    </tr>\n",
       "  </tbody>\n",
       "</table>\n",
       "</div>"
      ],
      "text/plain": [
       "              bmi   charges\n",
       "bmi      1.000000  0.198341\n",
       "charges  0.198341  1.000000"
      ]
     },
     "execution_count": 20,
     "metadata": {},
     "output_type": "execute_result"
    }
   ],
   "source": [
    "empat_b =insurance[['bmi', 'charges']].corr()\n",
    "empat_b"
   ]
  },
  {
   "cell_type": "code",
   "execution_count": null,
   "id": "9738766e-da86-4db5-a8b1-ffcb78fc8f0f",
   "metadata": {},
   "outputs": [
    {
     "data": {
      "text/html": [
       "<div>\n",
       "<style scoped>\n",
       "    .dataframe tbody tr th:only-of-type {\n",
       "        vertical-align: middle;\n",
       "    }\n",
       "\n",
       "    .dataframe tbody tr th {\n",
       "        vertical-align: top;\n",
       "    }\n",
       "\n",
       "    .dataframe thead th {\n",
       "        text-align: right;\n",
       "    }\n",
       "</style>\n",
       "<table border=\"1\" class=\"dataframe\">\n",
       "  <thead>\n",
       "    <tr style=\"text-align: right;\">\n",
       "      <th></th>\n",
       "      <th>children</th>\n",
       "      <th>charges</th>\n",
       "    </tr>\n",
       "  </thead>\n",
       "  <tbody>\n",
       "    <tr>\n",
       "      <th>children</th>\n",
       "      <td>1.000000</td>\n",
       "      <td>0.067998</td>\n",
       "    </tr>\n",
       "    <tr>\n",
       "      <th>charges</th>\n",
       "      <td>0.067998</td>\n",
       "      <td>1.000000</td>\n",
       "    </tr>\n",
       "  </tbody>\n",
       "</table>\n",
       "</div>"
      ],
      "text/plain": [
       "          children   charges\n",
       "children  1.000000  0.067998\n",
       "charges   0.067998  1.000000"
      ]
     },
     "execution_count": 21,
     "metadata": {},
     "output_type": "execute_result"
    }
   ],
   "source": [
    "empat_c =insurance[['children', 'charges']].corr()\n",
    "empat_c"
   ]
  },
  {
   "cell_type": "code",
   "execution_count": 89,
   "id": "4cd98091-c685-4f8b-bbc4-51e7749f9b6b",
   "metadata": {},
   "outputs": [
    {
     "data": {
      "text/html": [
       "<div>\n",
       "<style scoped>\n",
       "    .dataframe tbody tr th:only-of-type {\n",
       "        vertical-align: middle;\n",
       "    }\n",
       "\n",
       "    .dataframe tbody tr th {\n",
       "        vertical-align: top;\n",
       "    }\n",
       "\n",
       "    .dataframe thead th {\n",
       "        text-align: right;\n",
       "    }\n",
       "</style>\n",
       "<table border=\"1\" class=\"dataframe\">\n",
       "  <thead>\n",
       "    <tr style=\"text-align: right;\">\n",
       "      <th></th>\n",
       "      <th>bmi</th>\n",
       "      <th>age</th>\n",
       "    </tr>\n",
       "  </thead>\n",
       "  <tbody>\n",
       "    <tr>\n",
       "      <th>bmi</th>\n",
       "      <td>1.000000</td>\n",
       "      <td>0.109272</td>\n",
       "    </tr>\n",
       "    <tr>\n",
       "      <th>age</th>\n",
       "      <td>0.109272</td>\n",
       "      <td>1.000000</td>\n",
       "    </tr>\n",
       "  </tbody>\n",
       "</table>\n",
       "</div>"
      ],
      "text/plain": [
       "          bmi       age\n",
       "bmi  1.000000  0.109272\n",
       "age  0.109272  1.000000"
      ]
     },
     "execution_count": 89,
     "metadata": {},
     "output_type": "execute_result"
    }
   ],
   "source": [
    "empat_d =insurance[['bmi', 'age']].corr()\n",
    "empat_d"
   ]
  },
  {
   "cell_type": "code",
   "execution_count": 90,
   "id": "87adaf2d-e2e8-44a5-8e0f-8dc5f7dcd33b",
   "metadata": {},
   "outputs": [
    {
     "data": {
      "text/html": [
       "<div>\n",
       "<style scoped>\n",
       "    .dataframe tbody tr th:only-of-type {\n",
       "        vertical-align: middle;\n",
       "    }\n",
       "\n",
       "    .dataframe tbody tr th {\n",
       "        vertical-align: top;\n",
       "    }\n",
       "\n",
       "    .dataframe thead th {\n",
       "        text-align: right;\n",
       "    }\n",
       "</style>\n",
       "<table border=\"1\" class=\"dataframe\">\n",
       "  <thead>\n",
       "    <tr style=\"text-align: right;\">\n",
       "      <th></th>\n",
       "      <th>children</th>\n",
       "      <th>age</th>\n",
       "    </tr>\n",
       "  </thead>\n",
       "  <tbody>\n",
       "    <tr>\n",
       "      <th>children</th>\n",
       "      <td>1.000000</td>\n",
       "      <td>0.042469</td>\n",
       "    </tr>\n",
       "    <tr>\n",
       "      <th>age</th>\n",
       "      <td>0.042469</td>\n",
       "      <td>1.000000</td>\n",
       "    </tr>\n",
       "  </tbody>\n",
       "</table>\n",
       "</div>"
      ],
      "text/plain": [
       "          children       age\n",
       "children  1.000000  0.042469\n",
       "age       0.042469  1.000000"
      ]
     },
     "execution_count": 90,
     "metadata": {},
     "output_type": "execute_result"
    }
   ],
   "source": [
    "empat_e =insurance[['children','age']].corr()\n",
    "empat_e"
   ]
  },
  {
   "cell_type": "markdown",
   "id": "fe75801b-d228-43b8-8229-0f31505451b7",
   "metadata": {},
   "source": [
    "## 5. Pengujian Hipotesis\n",
    "#### CEK DI EXCEL"
   ]
  }
 ],
 "metadata": {
  "kernelspec": {
   "display_name": "Python 3 (ipykernel)",
   "language": "python",
   "name": "python3"
  },
  "language_info": {
   "codemirror_mode": {
    "name": "ipython",
    "version": 3
   },
   "file_extension": ".py",
   "mimetype": "text/x-python",
   "name": "python",
   "nbconvert_exporter": "python",
   "pygments_lexer": "ipython3",
   "version": "3.9.12"
  }
 },
 "nbformat": 4,
 "nbformat_minor": 5
}
